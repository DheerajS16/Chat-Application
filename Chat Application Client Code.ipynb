{
 "cells": [
  {
   "cell_type": "code",
   "execution_count": 1,
   "id": "b69a9d0e",
   "metadata": {},
   "outputs": [],
   "source": [
    "import socket\n",
    "import threading\n"
   ]
  },
  {
   "cell_type": "code",
   "execution_count": 2,
   "id": "9582f6c6",
   "metadata": {},
   "outputs": [],
   "source": [
    "def receive_messages(client_socket):\n",
    "    while True:\n",
    "        try:\n",
    "            message = client_socket.recv(1024).decode()\n",
    "            print(message)\n",
    "        except:\n",
    "            print(\"An error occurred!\")\n",
    "            client_socket.close()\n",
    "            break"
   ]
  },
  {
   "cell_type": "code",
   "execution_count": 3,
   "id": "c522c25d",
   "metadata": {},
   "outputs": [],
   "source": [
    "def main():\n",
    "    host = '127.0.0.1'\n",
    "    port = 12347\n",
    "\n",
    "    client_socket = socket.socket(socket.AF_INET, socket.SOCK_STREAM)\n",
    "    client_socket.connect((host, port))\n",
    "\n",
    "    threading.Thread(target=receive_messages, args=(client_socket,)).start()\n",
    "\n",
    "    while True:\n",
    "        message = input()\n",
    "        client_socket.send(message.encode())\n"
   ]
  },
  {
   "cell_type": "code",
   "execution_count": null,
   "id": "f5d0c5ea",
   "metadata": {},
   "outputs": [
    {
     "name": "stdout",
     "output_type": "stream",
     "text": [
      "Welcome to the chat server! Type 'exit' to quit.\n"
     ]
    }
   ],
   "source": [
    "if __name__ == \"__main__\":\n",
    "    main()"
   ]
  }
 ],
 "metadata": {
  "kernelspec": {
   "display_name": "Python 3 (ipykernel)",
   "language": "python",
   "name": "python3"
  },
  "language_info": {
   "codemirror_mode": {
    "name": "ipython",
    "version": 3
   },
   "file_extension": ".py",
   "mimetype": "text/x-python",
   "name": "python",
   "nbconvert_exporter": "python",
   "pygments_lexer": "ipython3",
   "version": "3.11.5"
  }
 },
 "nbformat": 4,
 "nbformat_minor": 5
}
